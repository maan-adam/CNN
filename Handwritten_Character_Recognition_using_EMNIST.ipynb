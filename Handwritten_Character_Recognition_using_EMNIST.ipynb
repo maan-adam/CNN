{
  "nbformat": 4,
  "nbformat_minor": 0,
  "metadata": {
    "colab": {
      "provenance": []
    },
    "kernelspec": {
      "name": "python3",
      "display_name": "Python 3"
    },
    "language_info": {
      "name": "python"
    }
  },
  "cells": [
    {
      "cell_type": "markdown",
      "source": [
        "Training an EMNIST classifier\n",
        "\n",
        "EMNIST (or extended MNIST) is just like MNIST, a bunch of handwritten images, except instead of just digits (0-9) it also has uppercase and lowercase characters.\n",
        "\n"
      ],
      "metadata": {
        "id": "zemWtDr8gVOf"
      }
    },
    {
      "cell_type": "code",
      "source": [
        "from IPython.display import clear_output"
      ],
      "metadata": {
        "id": "4GQMlmw2hwbn"
      },
      "execution_count": 2,
      "outputs": []
    },
    {
      "cell_type": "code",
      "source": [
        "%pip install torch torchvision\n",
        "%pip install matplotlib\n",
        "\n",
        "clear_output()"
      ],
      "metadata": {
        "id": "cvcXCUETh0AW"
      },
      "execution_count": 3,
      "outputs": []
    },
    {
      "cell_type": "code",
      "execution_count": 4,
      "metadata": {
        "id": "8j3LQ1Qza-vV"
      },
      "outputs": [],
      "source": [
        "import torch\n",
        "import torch.nn as nn\n",
        "from sklearn.preprocessing import StandardScaler\n",
        "from torchvision.datasets import EMNIST\n",
        "import torchvision.transforms.functional as F\n",
        "from sklearn.model_selection import train_test_split\n",
        "from torch.utils.data import DataLoader\n",
        "from torch import optim\n",
        "from torchvision.transforms.functional import to_tensor\n",
        "import matplotlib.pyplot as plt\n"
      ]
    },
    {
      "cell_type": "code",
      "source": [
        "train_data = EMNIST(root='emnist_data/', split='byclass', download=True,transform=to_tensor)\n",
        "test_data = EMNIST(root='emnist_data/', split='byclass', download=True, train=False,transform=to_tensor)"
      ],
      "metadata": {
        "id": "InCfHKZme7ga",
        "colab": {
          "base_uri": "https://localhost:8080/"
        },
        "outputId": "942d4917-038e-4747-b8c5-0c9a2a6f2acf"
      },
      "execution_count": 5,
      "outputs": [
        {
          "output_type": "stream",
          "name": "stdout",
          "text": [
            "Downloading https://biometrics.nist.gov/cs_links/EMNIST/gzip.zip to emnist_data/EMNIST/raw/gzip.zip\n"
          ]
        },
        {
          "output_type": "stream",
          "name": "stderr",
          "text": [
            "100%|██████████| 561753746/561753746 [00:09<00:00, 60336603.93it/s]\n"
          ]
        },
        {
          "output_type": "stream",
          "name": "stdout",
          "text": [
            "Extracting emnist_data/EMNIST/raw/gzip.zip to emnist_data/EMNIST/raw\n"
          ]
        }
      ]
    },
    {
      "cell_type": "code",
      "source": [
        "# This cell is for demo purposes. feel free to remove it if you want.\n",
        "print('Number of classes in dataset:', len(train_data.classes))\n",
        "print('Unique labels:', train_data.classes)\n",
        "\n",
        "demo_img, demo_label = train_data[10]\n",
        "\n",
        "print(demo_label)\n",
        "F.resize(demo_img, (256, 256)) #resizing just for display"
      ],
      "metadata": {
        "colab": {
          "base_uri": "https://localhost:8080/"
        },
        "id": "udb4rY5Vhaau",
        "outputId": "36907ccf-5792-47ad-f584-c8f8bcb33dc9"
      },
      "execution_count": 6,
      "outputs": [
        {
          "output_type": "stream",
          "name": "stdout",
          "text": [
            "Number of classes in dataset: 62\n",
            "Unique labels: ['0', '1', '2', '3', '4', '5', '6', '7', '8', '9', 'A', 'B', 'C', 'D', 'E', 'F', 'G', 'H', 'I', 'J', 'K', 'L', 'M', 'N', 'O', 'P', 'Q', 'R', 'S', 'T', 'U', 'V', 'W', 'X', 'Y', 'Z', 'a', 'b', 'c', 'd', 'e', 'f', 'g', 'h', 'i', 'j', 'k', 'l', 'm', 'n', 'o', 'p', 'q', 'r', 's', 't', 'u', 'v', 'w', 'x', 'y', 'z']\n",
            "7\n"
          ]
        },
        {
          "output_type": "execute_result",
          "data": {
            "text/plain": [
              "tensor([[[0., 0., 0.,  ..., 0., 0., 0.],\n",
              "         [0., 0., 0.,  ..., 0., 0., 0.],\n",
              "         [0., 0., 0.,  ..., 0., 0., 0.],\n",
              "         ...,\n",
              "         [0., 0., 0.,  ..., 0., 0., 0.],\n",
              "         [0., 0., 0.,  ..., 0., 0., 0.],\n",
              "         [0., 0., 0.,  ..., 0., 0., 0.]]])"
            ]
          },
          "metadata": {},
          "execution_count": 6
        }
      ]
    },
    {
      "cell_type": "code",
      "source": [],
      "metadata": {
        "id": "oH4fRGEGrzN3"
      },
      "execution_count": 6,
      "outputs": []
    },
    {
      "cell_type": "code",
      "source": [
        "from torch.optim import Adam\n"
      ],
      "metadata": {
        "id": "pFwNM4dQ4xHb"
      },
      "execution_count": 7,
      "outputs": []
    },
    {
      "cell_type": "code",
      "source": [
        "batch_size = 200\n",
        "\n",
        "train_loader = DataLoader(train_data, batch_size=batch_size)\n",
        "test_loader = DataLoader(test_data, batch_size=batch_size)"
      ],
      "metadata": {
        "id": "ZbnKaA_n5xrD"
      },
      "execution_count": 8,
      "outputs": []
    },
    {
      "cell_type": "code",
      "source": [
        "\n"
      ],
      "metadata": {
        "id": "QmM_hwB8MCZ9"
      },
      "execution_count": 8,
      "outputs": []
    },
    {
      "cell_type": "code",
      "source": [
        "class NN1Layer(nn.Module):\n",
        "\n",
        "  def __init__(self, num_inp, num_out):\n",
        "\n",
        "    super(NN1Layer, self).__init__()\n",
        "\n",
        "    self.layer_1 = nn.Linear(num_inp, num_out)\n",
        "    self.softmax = nn.Softmax(dim=1)\n",
        "\n",
        "  def forward(self, x):\n",
        "\n",
        "    z = self.layer_1(x)\n",
        "    a = self.softmax(z)\n",
        "\n",
        "    return a\n",
        "\n",
        "\n",
        "\n",
        "class NN2Layer(nn.Module):\n",
        "\n",
        "  def __init__(self, num_inp, num_hidden, num_out):\n",
        "\n",
        "    super(NN2Layer, self).__init__()\n",
        "\n",
        "    self.layer_1 = nn.Linear(num_inp, num_hidden)\n",
        "    self.layer_2 = nn.Linear(num_hidden, num_out)\n",
        "\n",
        "    self.hidden_activation = nn.ReLU()\n",
        "    self.softmax = nn.Softmax(dim=1)\n",
        "\n",
        "  def forward(self, x):\n",
        "\n",
        "    z1 = self.layer_1(x)\n",
        "    a1 = self.hidden_activation(z1)\n",
        "\n",
        "    z2 = self.layer_2(a1)\n",
        "    a2 = self.softmax(z2)\n",
        "\n",
        "    return a2"
      ],
      "metadata": {
        "id": "7sP-WJiCDjgZ"
      },
      "execution_count": 9,
      "outputs": []
    },
    {
      "cell_type": "code",
      "source": [
        "# increase the number of epoches for a better model (it is going to take some time)\n",
        "num_epochs = 50\n",
        "lr = 1e-4\n",
        "\n",
        "device = 'cuda' if torch.cuda.is_available() else 'cpu'\n",
        "\n",
        "train_losses = []\n",
        "val_losses = []\n",
        "\n",
        "model = NN2Layer(28*28,128, 62)\n",
        "optimizer = Adam(model.parameters(), lr=lr)\n",
        "criterion = nn.CrossEntropyLoss()\n",
        "\n",
        "model.to(device)\n",
        "\n",
        "print(f'Using device {device}')"
      ],
      "metadata": {
        "colab": {
          "base_uri": "https://localhost:8080/"
        },
        "id": "oxr8qT4xI3sW",
        "outputId": "1b6a3ac8-e0f8-4f5c-8c22-e6fdb5384f33"
      },
      "execution_count": 10,
      "outputs": [
        {
          "output_type": "stream",
          "name": "stdout",
          "text": [
            "Using device cpu\n"
          ]
        }
      ]
    },
    {
      "cell_type": "code",
      "source": [
        "model.eval()\n",
        "correctly_labelled = 0\n",
        "\n",
        "with torch.no_grad():\n",
        "\n",
        "  val_epoch_weighted_loss = 0\n",
        "\n",
        "  for val_batch_X, val_batch_y in test_loader:\n",
        "\n",
        "    val_batch_X = val_batch_X.view(-1, 28*28).to(device)\n",
        "    val_batch_y = val_batch_y.to(device)\n",
        "\n",
        "    val_batch_y_probs = model(val_batch_X)\n",
        "    loss = criterion(val_batch_y_probs, val_batch_y)\n",
        "    val_epoch_weighted_loss += (len(val_batch_y)*loss.item())\n",
        "\n",
        "    val_batch_y_pred = val_batch_y_probs.argmax(dim=1)\n",
        "\n",
        "    correctly_labelled += (val_batch_y_pred == val_batch_y).sum().item()\n",
        "\n",
        "val_epoch_loss = val_epoch_weighted_loss/len(test_loader.dataset)\n",
        "val_losses.append(val_epoch_loss)\n",
        "\n",
        "print(f'val_loss={val_epoch_loss}. labelled {correctly_labelled}/{len(test_loader.dataset)} correctly ({correctly_labelled/len(test_loader.dataset)*100}% accuracy)')\n"
      ],
      "metadata": {
        "colab": {
          "base_uri": "https://localhost:8080/"
        },
        "id": "a6itM5-uCccc",
        "outputId": "95baf7a8-13e3-4798-ba30-9877625141a9"
      },
      "execution_count": 11,
      "outputs": [
        {
          "output_type": "stream",
          "name": "stdout",
          "text": [
            "val_loss=4.127206264562847. labelled 2466/116323 correctly (2.1199590794597802% accuracy)\n"
          ]
        }
      ]
    },
    {
      "cell_type": "code",
      "source": [
        "for epoch_no in range(num_epochs):\n",
        "\n",
        "  model.train()  # convert to train model. This turns out train-specific layers in the model (if you dont know about them, an example of them is dropout. more on this later)\n",
        "\n",
        "  epoch_weighted_loss = 0\n",
        "\n",
        "  for batch_X, batch_y in train_loader:\n",
        "\n",
        "    batch_X = batch_X.view(-1, 28*28).to(device)  # convert to [N, 28*28] shape where N is batch_size\n",
        "    batch_y = batch_y.to(device)\n",
        "\n",
        "    batch_y_probs = model(batch_X)  # outputs [N, 10] where each [:, 10] is probabilities for class (0-9)\n",
        "\n",
        "    loss = criterion(batch_y_probs, batch_y)\n",
        "\n",
        "    optimizer.zero_grad()  # need to clear out gradients from previous batch\n",
        "    loss.backward()  # calculate new gradients\n",
        "    optimizer.step()  # update weights\n",
        "\n",
        "    epoch_weighted_loss += (len(batch_y)*loss.item())\n",
        "\n",
        "  epoch_loss = epoch_weighted_loss/len(train_loader.dataset)\n",
        "  train_losses.append(epoch_loss)\n",
        "\n",
        "\n",
        "\n",
        "  model.eval()\n",
        "  correctly_labelled = 0\n",
        "\n",
        "  with torch.no_grad():\n",
        "\n",
        "    val_epoch_weighted_loss = 0\n",
        "\n",
        "    for val_batch_X, val_batch_y in test_loader:\n",
        "\n",
        "      val_batch_X = val_batch_X.view(-1, 28*28).to(device)\n",
        "      val_batch_y = val_batch_y.to(device)\n",
        "\n",
        "      val_batch_y_probs = model(val_batch_X)\n",
        "\n",
        "      loss = criterion(val_batch_y_probs, val_batch_y)\n",
        "      val_epoch_weighted_loss += (len(val_batch_y)*loss.item())\n",
        "\n",
        "      val_batch_y_pred = val_batch_y_probs.argmax(dim=1)\n",
        "\n",
        "      correctly_labelled += (val_batch_y_pred == val_batch_y).sum().item()\n",
        "\n",
        "  val_epoch_loss = val_epoch_weighted_loss/len(test_loader.dataset)\n",
        "  val_losses.append(val_epoch_loss)\n",
        "\n",
        "  print(f'Epoch: {epoch_no}, train_loss={epoch_loss}, val_loss={val_epoch_loss}. labelled {correctly_labelled}/{len(test_loader.dataset)} correctly ({correctly_labelled/len(test_loader.dataset)*100}% accuracy)')\n",
        "\n",
        "print(f'Training complete on device {device}. Change device variable and run again to see the difference.')"
      ],
      "metadata": {
        "colab": {
          "base_uri": "https://localhost:8080/"
        },
        "id": "ZCbCiSEw42-t",
        "outputId": "c4a69174-5a34-4052-f758-8aa09ae482c9"
      },
      "execution_count": 12,
      "outputs": [
        {
          "output_type": "stream",
          "name": "stdout",
          "text": [
            "Epoch: 0, train_loss=3.7702191342601488, val_loss=3.7054076405854106. labelled 52981/116323 correctly (45.546452550226526% accuracy)\n",
            "Epoch: 1, train_loss=3.700213656414517, val_loss=3.68524911980974. labelled 55067/116323 correctly (47.33973504809883% accuracy)\n",
            "Epoch: 2, train_loss=3.681680398129392, val_loss=3.6711321230820047. labelled 56783/116323 correctly (48.81493771653069% accuracy)\n",
            "Epoch: 3, train_loss=3.6693918330831066, val_loss=3.6639127147999844. labelled 57483/116323 correctly (49.416710366823416% accuracy)\n",
            "Epoch: 4, train_loss=3.654639768035309, val_loss=3.6469515994067296. labelled 59458/116323 correctly (51.114568915863586% accuracy)\n",
            "Epoch: 5, train_loss=3.646435881509836, val_loss=3.6424565532424893. labelled 59913/116323 correctly (51.50572113855385% accuracy)\n",
            "Epoch: 6, train_loss=3.642358590803059, val_loss=3.638191778002731. labelled 60412/116323 correctly (51.934699070691096% accuracy)\n",
            "Epoch: 7, train_loss=3.6389669482081595, val_loss=3.6356198379875235. labelled 60665/116323 correctly (52.15219690001117% accuracy)\n",
            "Epoch: 8, train_loss=3.636649804984262, val_loss=3.633658915249057. labelled 60861/116323 correctly (52.32069324209314% accuracy)\n",
            "Epoch: 9, train_loss=3.634813261328073, val_loss=3.632065813059935. labelled 60997/116323 correctly (52.43760907129287% accuracy)\n",
            "Epoch: 10, train_loss=3.6333291293000842, val_loss=3.6307898206268834. labelled 61122/116323 correctly (52.545068473130854% accuracy)\n",
            "Epoch: 11, train_loss=3.6321050858977646, val_loss=3.6297308808379496. labelled 61220/116323 correctly (52.62931664417183% accuracy)\n",
            "Epoch: 12, train_loss=3.631066243744712, val_loss=3.6288295099414145. labelled 61326/116323 correctly (52.720442216930444% accuracy)\n",
            "Epoch: 13, train_loss=3.630159518162624, val_loss=3.6280589662570097. labelled 61429/116323 correctly (52.80898876404494% accuracy)\n",
            "Epoch: 14, train_loss=3.629359275471039, val_loss=3.627381515266403. labelled 61501/116323 correctly (52.87088537950362% accuracy)\n",
            "Epoch: 15, train_loss=3.6286394938513222, val_loss=3.6267537680327546. labelled 61573/116323 correctly (52.932781994962305% accuracy)\n",
            "Epoch: 16, train_loss=3.627978990776805, val_loss=3.6261553531854247. labelled 61617/116323 correctly (52.970607704409275% accuracy)\n",
            "Epoch: 17, train_loss=3.627366889507819, val_loss=3.625611399015378. labelled 61660/116323 correctly (53.00757373864155% accuracy)\n",
            "Epoch: 18, train_loss=3.6268188219682105, val_loss=3.625156045895676. labelled 61711/116323 correctly (53.05141717459144% accuracy)\n",
            "Epoch: 19, train_loss=3.6263265057826994, val_loss=3.624754468476636. labelled 61745/116323 correctly (53.08064613189137% accuracy)\n",
            "Epoch: 20, train_loss=3.625877685017739, val_loss=3.6243992045496243. labelled 61778/116323 correctly (53.1090154139766% accuracy)\n",
            "Epoch: 21, train_loss=3.625467132209032, val_loss=3.6240851648086094. labelled 61804/116323 correctly (53.131366969558904% accuracy)\n",
            "Epoch: 22, train_loss=3.6250813154245822, val_loss=3.623822742361005. labelled 61850/116323 correctly (53.17091202943528% accuracy)\n",
            "Epoch: 23, train_loss=3.624721412677603, val_loss=3.6235945346222764. labelled 61864/116323 correctly (53.182947482441136% accuracy)\n",
            "Epoch: 24, train_loss=3.6243934294481988, val_loss=3.6233749310225454. labelled 61882/116323 correctly (53.1984216363058% accuracy)\n",
            "Epoch: 25, train_loss=3.6240893977175777, val_loss=3.6231545409016004. labelled 61904/116323 correctly (53.21733449102929% accuracy)\n",
            "Epoch: 26, train_loss=3.6238064528690823, val_loss=3.6229429093158867. labelled 61926/116323 correctly (53.23624734575277% accuracy)\n",
            "Epoch: 27, train_loss=3.623540634955443, val_loss=3.622750376945449. labelled 61944/116323 correctly (53.251721499617446% accuracy)\n",
            "Epoch: 28, train_loss=3.623292616368895, val_loss=3.6225717977711205. labelled 61965/116323 correctly (53.26977467912622% accuracy)\n",
            "Epoch: 29, train_loss=3.6230597941447478, val_loss=3.6224083225489507. labelled 61974/116323 correctly (53.27751175605856% accuracy)\n",
            "Epoch: 30, train_loss=3.6228410691810446, val_loss=3.622255147700942. labelled 61978/116323 correctly (53.280950456917374% accuracy)\n",
            "Epoch: 31, train_loss=3.62263359161446, val_loss=3.6221144992104968. labelled 61999/116323 correctly (53.29900363642616% accuracy)\n",
            "Epoch: 32, train_loss=3.6212940543023513, val_loss=3.614119958884942. labelled 63011/116323 correctly (54.168994953706495% accuracy)\n",
            "Epoch: 33, train_loss=3.613044066393693, val_loss=3.6123086549578987. labelled 63180/116323 correctly (54.31428006499145% accuracy)\n",
            "Epoch: 34, train_loss=3.612193829330758, val_loss=3.611865116528916. labelled 63218/116323 correctly (54.346947723150194% accuracy)\n",
            "Epoch: 35, train_loss=3.6112003781723723, val_loss=3.609354805682153. labelled 63541/116323 correctly (54.62462281749955% accuracy)\n",
            "Epoch: 36, train_loss=3.6084410712670087, val_loss=3.607979227626834. labelled 63699/116323 correctly (54.76045150142276% accuracy)\n",
            "Epoch: 37, train_loss=3.607630297360481, val_loss=3.6075149693437467. labelled 63736/116323 correctly (54.7922594843668% accuracy)\n",
            "Epoch: 38, train_loss=3.6071886668772577, val_loss=3.607178498875038. labelled 63752/116323 correctly (54.806014287802064% accuracy)\n",
            "Epoch: 39, train_loss=3.606843224851192, val_loss=3.606915152439892. labelled 63785/116323 correctly (54.8343835698873% accuracy)\n",
            "Epoch: 40, train_loss=3.6065447170233758, val_loss=3.6066998655767786. labelled 63822/116323 correctly (54.866191552831346% accuracy)\n",
            "Epoch: 41, train_loss=3.6062684226475925, val_loss=3.606516157548896. labelled 63825/116323 correctly (54.868770578475456% accuracy)\n",
            "Epoch: 42, train_loss=3.606009204605077, val_loss=3.606358719414401. labelled 63834/116323 correctly (54.87650765540779% accuracy)\n",
            "Epoch: 43, train_loss=3.6057690759172267, val_loss=3.6062101413740777. labelled 63857/116323 correctly (54.89628018534598% accuracy)\n",
            "Epoch: 44, train_loss=3.605544011549672, val_loss=3.6060710582071698. labelled 63875/116323 correctly (54.91175433921065% accuracy)\n",
            "Epoch: 45, train_loss=3.6053329138966967, val_loss=3.6059491149181566. labelled 63882/116323 correctly (54.91777206571358% accuracy)\n",
            "Epoch: 46, train_loss=3.6051392660069226, val_loss=3.605846115009348. labelled 63897/116323 correctly (54.930667193934134% accuracy)\n",
            "Epoch: 47, train_loss=3.604957120258936, val_loss=3.605756359437792. labelled 63911/116323 correctly (54.94270264693999% accuracy)\n",
            "Epoch: 48, train_loss=3.6047853947732476, val_loss=3.6056710420431615. labelled 63917/116323 correctly (54.94786069822821% accuracy)\n",
            "Epoch: 49, train_loss=3.6046213657682737, val_loss=3.6055903508478444. labelled 63916/116323 correctly (54.947001023013506% accuracy)\n",
            "Training complete on device cpu. Change device variable and run again to see the difference.\n"
          ]
        }
      ]
    },
    {
      "cell_type": "code",
      "source": [
        "plt.plot(train_losses, label='train loss')\n",
        "plt.plot(val_losses, label='val loss')\n",
        "plt.xlabel('Epoch')\n",
        "plt.ylabel('Loss (Cross Entropy)')\n",
        "plt.legend()\n",
        "plt.show()"
      ],
      "metadata": {
        "id": "xg7wxWPP6jTG",
        "colab": {
          "base_uri": "https://localhost:8080/",
          "height": 449
        },
        "outputId": "ef0a1c74-06a6-4291-9b43-eaf62a978b65"
      },
      "execution_count": 13,
      "outputs": [
        {
          "output_type": "display_data",
          "data": {
            "text/plain": [
              "<Figure size 640x480 with 1 Axes>"
            ],
            "image/png": "[encoded data removed]"
          },
          "metadata": {}
        }
      ]
    },
    {
      "cell_type": "code",
      "source": [
        "# Plot some predictions\n",
        "model.eval()\n",
        "fig, axes = plt.subplots(3, 3, figsize=(10, 10))\n",
        "\n",
        "with torch.no_grad():\n",
        "    for i, (img, label) in enumerate(test_data):\n",
        "        if i == 9:\n",
        "            break\n",
        "        ax = axes[i//3, i%3]\n",
        "        img = img.view(1, 28*28).to(device)\n",
        "        output = model(img)\n",
        "        _, pred = torch.max(output, 1)\n",
        "        ax.imshow(img.cpu().view(28, 28), cmap='gray')\n",
        "        ax.set_title(f'Pred: {pred.item()}, True: {label}')\n",
        "        ax.axis('off')\n",
        "\n",
        "plt.show()"
      ],
      "metadata": {
        "colab": {
          "base_uri": "https://localhost:8080/",
          "height": 829
        },
        "id": "4TkJjsZgssMM",
        "outputId": "39a0b3ed-89fd-403c-c8b3-ad6737774f76"
      },
      "execution_count": 14,
      "outputs": [
        {
          "output_type": "display_data",
          "data": {
            "text/plain": [
              "<Figure size 1000x1000 with 9 Axes>"
            ],
            "image/png": "[encoded data removed]"
          },
          "metadata": {}
        }
      ]
    },
    {
      "cell_type": "code",
      "source": [],
      "metadata": {
        "id": "OhMSFtvQD4eA"
      },
      "execution_count": null,
      "outputs": []
    }
  ]
}